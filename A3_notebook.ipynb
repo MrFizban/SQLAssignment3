{
 "cells": [
  {
   "cell_type": "code",
   "execution_count": 1,
   "metadata": {},
   "outputs": [],
   "source": [
    "import psycopg2\n",
    "import random\n",
    "import sys\n",
    "import pandas as pd\n",
    "\n",
    "TABLE_LENGTH = 20\n",
    "barr_mudalator = 1\n",
    "\n",
    "if TABLE_LENGTH / 100 > 0:\n",
    "    barr_mudalator = TABLE_LENGTH / 100"
   ]
  },
  {
   "cell_type": "code",
   "execution_count": 2,
   "metadata": {},
   "outputs": [],
   "source": [
    "connection = psycopg2.connect(dbname='db_057', user='db_057', host='sci-didattica.unitn.it', password='pass_057')\n",
    "cursor = connection.cursor()"
   ]
  },
  {
   "cell_type": "code",
   "execution_count": 96,
   "metadata": {},
   "outputs": [],
   "source": [
    "connection.close()"
   ]
  },
  {
   "cell_type": "code",
   "execution_count": 15,
   "metadata": {},
   "outputs": [
    {
     "name": "stdout",
     "output_type": "stream",
     "text": [
      "<connection object at 0x7f7db7689500; dsn: 'user=db_057 password=xxx dbname=db_057 host=sci-didattica.unitn.it', closed: 0>\n",
      "<cursor object at 0x7f7dcd47b400; closed: 0>\n"
     ]
    }
   ],
   "source": [
    "print(connection)\n",
    "print(cursor)"
   ]
  },
  {
   "cell_type": "markdown",
   "metadata": {},
   "source": [
    "1. Fa il drop delle due tabelle dalla base di dati se sono già presenti"
   ]
  },
  {
   "cell_type": "code",
   "execution_count": 74,
   "metadata": {},
   "outputs": [],
   "source": [
    "cursor.execute('DROP TABLE IF EXISTS \"Boat\";')\n",
    "connection.commit()\n",
    "cursor.execute('DROP TABLE IF EXISTS \"Sailor\";')\n",
    "connection.commit()"
   ]
  },
  {
   "cell_type": "markdown",
   "metadata": {},
   "source": [
    "2. Crea le due tabelle come descritto sopra."
   ]
  },
  {
   "cell_type": "code",
   "execution_count": 78,
   "metadata": {},
   "outputs": [],
   "source": [
    "cursor.execute('CREATE TABLE \"Sailor\" (\"id\" INT PRIMARY KEY, \"name\" CHAR(50) NOT NULL, \"address\" CHAR(50) NOT NULL, \"age\" INT NOT NULL, \"level\" FLOAT NOT NULL);')\n",
    "connection.commit()\n",
    "cursor.execute('CREATE TABLE \"Boat\" (\"bid\" CHAR(25) PRIMARY KEY, \"bname\" CHAR(50) NOT NULL, \"size\" CHAR(30) NOT NULL, \"captain\" INT NOT NULL REFERENCES \"Sailor\"(\"id\"));')\n",
    "connection.commit()\n"
   ]
  },
  {
   "cell_type": "markdown",
   "metadata": {},
   "source": [
    "3. Genera 1 milione di tuple (casuali1 ), in modo tale che ogni tupla abbia un valore diverso per l’attributo level, e\n",
    "      le inserisce nella tabella S  ailor. Assicurarsi inoltre che l’ultima tupla inserita, e solo quella, abbia come valore\n",
    "      dell’attributo level, il valore 185."
   ]
  },
  {
   "cell_type": "code",
   "execution_count": 79,
   "metadata": {},
   "outputs": [
    {
     "name": "stdout",
     "output_type": "stream",
     "text": [
      "Load data in \"Sailor\"\n",
      "[-]\n"
     ]
    }
   ],
   "source": [
    "level = random.sample(range(186, 3000000), TABLE_LENGTH-1)\n",
    "level.append(185)\n",
    "name = [\"Liam\", \"Olivia\", \"Noah\", \"Emma\", \"Oliver\", \"Ava\", \"William\", \"Sophia\", \"Elijah\", \"Isabella\", \"James\", \"Charlotte\", \"Benjamin\", \"Amelia\", \"Lucas\", \"Mia\", \"Mason\", \"Harper\", \"Ethan\", \"Evelyn\"]\n",
    "name_list = []\n",
    "for i in range(0,TABLE_LENGTH,1):\n",
    "    name_list.append(random.randint(0,19))\n",
    "\n",
    "andress = \"via Giangiorgio Oliviero,15\"\n",
    "age = 42\n",
    "\n",
    "# setup toolbar\n",
    "print('Load data in \"Sailor\"')\n",
    "print(\"[\", end =\"\")\n",
    "for i in range(0,TABLE_LENGTH,1): \n",
    "    temp = f'''INSERT INTO \"Sailor\" (\"id\", \"name\", \"address\", \"age\", \"level\") VALUES ({i}, '{name[name_list[i]]}', '{andress}', {age}, {level[i]})'''\n",
    "    cursor.execute(temp)\n",
    "    connection.commit()\n",
    "    if i % barr_mudalator == 0:\n",
    "        print(\"-\", end = \"\")\n",
    "\n",
    "print(\"]\")"
   ]
  },
  {
   "cell_type": "markdown",
   "metadata": {},
   "source": [
    "4. Genera 1 ulteriore milione di tuple (casuali) e le inserisce nella tabella B  oat."
   ]
  },
  {
   "cell_type": "code",
   "execution_count": 80,
   "metadata": {},
   "outputs": [
    {
     "name": "stdout",
     "output_type": "stream",
     "text": [
      "Load data in \"Boat\"\n",
      "[-]\n"
     ]
    }
   ],
   "source": [
    "bname = [\"ABBEY\", \"ABBIE\", \"ABBY\", \"ABEL\", \"ABIGAIL\", \"ACE\", \"ADAM\", \"ADDIE\", \"ADMIRAL\", \"AGGIE\", \"AIRES\", \"AJ\", \"AJAX\", \"ALDO\", \"ALEX\", \"ALEXUS\", \"ALF\", \"ALFIE\",\"ALLIE\", \"ALLY\"]\n",
    "bname_list = []\n",
    "for i in range(0,TABLE_LENGTH,1):\n",
    "    bname_list.append(random.randint(0,2))\n",
    "\n",
    "size = [\"large\", \"medium\", \"small\"]\n",
    "size_list = []\n",
    "for i in range(0,TABLE_LENGTH,1):\n",
    "    size_list.append(random.randint(0,2))\n",
    "\n",
    "captain_list = []\n",
    "for i in range(0,TABLE_LENGTH,1):\n",
    "    captain_list.append(random.randint(0,TABLE_LENGTH-1))\n",
    "    \n",
    "print('Load data in \"Boat\"')   \n",
    "print(\"[\", end =\"\")\n",
    "for i in range(0,TABLE_LENGTH,1): \n",
    "    temp = f'''INSERT INTO \"Boat\" (\"bid\", \"bname\", \"size\", \"captain\") VALUES ({i}, '{bname[bname_list[i]]}', '{size[size_list[i]]}', {captain_list[i]})'''\n",
    "    cursor.execute(temp)\n",
    "    connection.commit()\n",
    "    if i % barr_mudalator == 0:\n",
    "        print(\"-\", end = \"\")\n",
    "    \n",
    "print(\"]\")"
   ]
  },
  {
   "cell_type": "code",
   "execution_count": 81,
   "metadata": {},
   "outputs": [
    {
     "data": {
      "text/html": [
       "<div>\n",
       "<style scoped>\n",
       "    .dataframe tbody tr th:only-of-type {\n",
       "        vertical-align: middle;\n",
       "    }\n",
       "\n",
       "    .dataframe tbody tr th {\n",
       "        vertical-align: top;\n",
       "    }\n",
       "\n",
       "    .dataframe thead th {\n",
       "        text-align: right;\n",
       "    }\n",
       "</style>\n",
       "<table border=\"1\" class=\"dataframe\">\n",
       "  <thead>\n",
       "    <tr style=\"text-align: right;\">\n",
       "      <th></th>\n",
       "      <th>id</th>\n",
       "      <th>name</th>\n",
       "      <th>address</th>\n",
       "      <th>age</th>\n",
       "      <th>level</th>\n",
       "    </tr>\n",
       "  </thead>\n",
       "  <tbody>\n",
       "    <tr>\n",
       "      <th>0</th>\n",
       "      <td>0</td>\n",
       "      <td>Olivia                                        ...</td>\n",
       "      <td>via Giangiorgio Oliviero,15                   ...</td>\n",
       "      <td>42</td>\n",
       "      <td>520253.0</td>\n",
       "    </tr>\n",
       "    <tr>\n",
       "      <th>1</th>\n",
       "      <td>1</td>\n",
       "      <td>Charlotte                                     ...</td>\n",
       "      <td>via Giangiorgio Oliviero,15                   ...</td>\n",
       "      <td>42</td>\n",
       "      <td>634136.0</td>\n",
       "    </tr>\n",
       "    <tr>\n",
       "      <th>2</th>\n",
       "      <td>2</td>\n",
       "      <td>Lucas                                         ...</td>\n",
       "      <td>via Giangiorgio Oliviero,15                   ...</td>\n",
       "      <td>42</td>\n",
       "      <td>1811899.0</td>\n",
       "    </tr>\n",
       "    <tr>\n",
       "      <th>3</th>\n",
       "      <td>3</td>\n",
       "      <td>Olivia                                        ...</td>\n",
       "      <td>via Giangiorgio Oliviero,15                   ...</td>\n",
       "      <td>42</td>\n",
       "      <td>1279617.0</td>\n",
       "    </tr>\n",
       "    <tr>\n",
       "      <th>4</th>\n",
       "      <td>4</td>\n",
       "      <td>Emma                                          ...</td>\n",
       "      <td>via Giangiorgio Oliviero,15                   ...</td>\n",
       "      <td>42</td>\n",
       "      <td>953510.0</td>\n",
       "    </tr>\n",
       "    <tr>\n",
       "      <th>5</th>\n",
       "      <td>5</td>\n",
       "      <td>Benjamin                                      ...</td>\n",
       "      <td>via Giangiorgio Oliviero,15                   ...</td>\n",
       "      <td>42</td>\n",
       "      <td>515277.0</td>\n",
       "    </tr>\n",
       "    <tr>\n",
       "      <th>6</th>\n",
       "      <td>6</td>\n",
       "      <td>William                                       ...</td>\n",
       "      <td>via Giangiorgio Oliviero,15                   ...</td>\n",
       "      <td>42</td>\n",
       "      <td>2769141.0</td>\n",
       "    </tr>\n",
       "    <tr>\n",
       "      <th>7</th>\n",
       "      <td>7</td>\n",
       "      <td>Charlotte                                     ...</td>\n",
       "      <td>via Giangiorgio Oliviero,15                   ...</td>\n",
       "      <td>42</td>\n",
       "      <td>325729.0</td>\n",
       "    </tr>\n",
       "    <tr>\n",
       "      <th>8</th>\n",
       "      <td>8</td>\n",
       "      <td>Lucas                                         ...</td>\n",
       "      <td>via Giangiorgio Oliviero,15                   ...</td>\n",
       "      <td>42</td>\n",
       "      <td>2129143.0</td>\n",
       "    </tr>\n",
       "    <tr>\n",
       "      <th>9</th>\n",
       "      <td>9</td>\n",
       "      <td>Charlotte                                     ...</td>\n",
       "      <td>via Giangiorgio Oliviero,15                   ...</td>\n",
       "      <td>42</td>\n",
       "      <td>1664093.0</td>\n",
       "    </tr>\n",
       "    <tr>\n",
       "      <th>10</th>\n",
       "      <td>10</td>\n",
       "      <td>Olivia                                        ...</td>\n",
       "      <td>via Giangiorgio Oliviero,15                   ...</td>\n",
       "      <td>42</td>\n",
       "      <td>2155091.0</td>\n",
       "    </tr>\n",
       "    <tr>\n",
       "      <th>11</th>\n",
       "      <td>11</td>\n",
       "      <td>Charlotte                                     ...</td>\n",
       "      <td>via Giangiorgio Oliviero,15                   ...</td>\n",
       "      <td>42</td>\n",
       "      <td>1385514.0</td>\n",
       "    </tr>\n",
       "    <tr>\n",
       "      <th>12</th>\n",
       "      <td>12</td>\n",
       "      <td>Sophia                                        ...</td>\n",
       "      <td>via Giangiorgio Oliviero,15                   ...</td>\n",
       "      <td>42</td>\n",
       "      <td>1401403.0</td>\n",
       "    </tr>\n",
       "    <tr>\n",
       "      <th>13</th>\n",
       "      <td>13</td>\n",
       "      <td>James                                         ...</td>\n",
       "      <td>via Giangiorgio Oliviero,15                   ...</td>\n",
       "      <td>42</td>\n",
       "      <td>2513322.0</td>\n",
       "    </tr>\n",
       "    <tr>\n",
       "      <th>14</th>\n",
       "      <td>14</td>\n",
       "      <td>William                                       ...</td>\n",
       "      <td>via Giangiorgio Oliviero,15                   ...</td>\n",
       "      <td>42</td>\n",
       "      <td>2646921.0</td>\n",
       "    </tr>\n",
       "    <tr>\n",
       "      <th>15</th>\n",
       "      <td>15</td>\n",
       "      <td>Evelyn                                        ...</td>\n",
       "      <td>via Giangiorgio Oliviero,15                   ...</td>\n",
       "      <td>42</td>\n",
       "      <td>2807298.0</td>\n",
       "    </tr>\n",
       "    <tr>\n",
       "      <th>16</th>\n",
       "      <td>16</td>\n",
       "      <td>Evelyn                                        ...</td>\n",
       "      <td>via Giangiorgio Oliviero,15                   ...</td>\n",
       "      <td>42</td>\n",
       "      <td>345690.0</td>\n",
       "    </tr>\n",
       "    <tr>\n",
       "      <th>17</th>\n",
       "      <td>17</td>\n",
       "      <td>William                                       ...</td>\n",
       "      <td>via Giangiorgio Oliviero,15                   ...</td>\n",
       "      <td>42</td>\n",
       "      <td>2303536.0</td>\n",
       "    </tr>\n",
       "    <tr>\n",
       "      <th>18</th>\n",
       "      <td>18</td>\n",
       "      <td>William                                       ...</td>\n",
       "      <td>via Giangiorgio Oliviero,15                   ...</td>\n",
       "      <td>42</td>\n",
       "      <td>234276.0</td>\n",
       "    </tr>\n",
       "    <tr>\n",
       "      <th>19</th>\n",
       "      <td>19</td>\n",
       "      <td>Harper                                        ...</td>\n",
       "      <td>via Giangiorgio Oliviero,15                   ...</td>\n",
       "      <td>42</td>\n",
       "      <td>185.0</td>\n",
       "    </tr>\n",
       "  </tbody>\n",
       "</table>\n",
       "</div>"
      ],
      "text/plain": [
       "    id                                               name  \\\n",
       "0    0  Olivia                                        ...   \n",
       "1    1  Charlotte                                     ...   \n",
       "2    2  Lucas                                         ...   \n",
       "3    3  Olivia                                        ...   \n",
       "4    4  Emma                                          ...   \n",
       "5    5  Benjamin                                      ...   \n",
       "6    6  William                                       ...   \n",
       "7    7  Charlotte                                     ...   \n",
       "8    8  Lucas                                         ...   \n",
       "9    9  Charlotte                                     ...   \n",
       "10  10  Olivia                                        ...   \n",
       "11  11  Charlotte                                     ...   \n",
       "12  12  Sophia                                        ...   \n",
       "13  13  James                                         ...   \n",
       "14  14  William                                       ...   \n",
       "15  15  Evelyn                                        ...   \n",
       "16  16  Evelyn                                        ...   \n",
       "17  17  William                                       ...   \n",
       "18  18  William                                       ...   \n",
       "19  19  Harper                                        ...   \n",
       "\n",
       "                                              address  age      level  \n",
       "0   via Giangiorgio Oliviero,15                   ...   42   520253.0  \n",
       "1   via Giangiorgio Oliviero,15                   ...   42   634136.0  \n",
       "2   via Giangiorgio Oliviero,15                   ...   42  1811899.0  \n",
       "3   via Giangiorgio Oliviero,15                   ...   42  1279617.0  \n",
       "4   via Giangiorgio Oliviero,15                   ...   42   953510.0  \n",
       "5   via Giangiorgio Oliviero,15                   ...   42   515277.0  \n",
       "6   via Giangiorgio Oliviero,15                   ...   42  2769141.0  \n",
       "7   via Giangiorgio Oliviero,15                   ...   42   325729.0  \n",
       "8   via Giangiorgio Oliviero,15                   ...   42  2129143.0  \n",
       "9   via Giangiorgio Oliviero,15                   ...   42  1664093.0  \n",
       "10  via Giangiorgio Oliviero,15                   ...   42  2155091.0  \n",
       "11  via Giangiorgio Oliviero,15                   ...   42  1385514.0  \n",
       "12  via Giangiorgio Oliviero,15                   ...   42  1401403.0  \n",
       "13  via Giangiorgio Oliviero,15                   ...   42  2513322.0  \n",
       "14  via Giangiorgio Oliviero,15                   ...   42  2646921.0  \n",
       "15  via Giangiorgio Oliviero,15                   ...   42  2807298.0  \n",
       "16  via Giangiorgio Oliviero,15                   ...   42   345690.0  \n",
       "17  via Giangiorgio Oliviero,15                   ...   42  2303536.0  \n",
       "18  via Giangiorgio Oliviero,15                   ...   42   234276.0  \n",
       "19  via Giangiorgio Oliviero,15                   ...   42      185.0  "
      ]
     },
     "execution_count": 81,
     "metadata": {},
     "output_type": "execute_result"
    }
   ],
   "source": [
    "pd.read_sql('''SELECT * FROM \"Sailor\"''', connection)"
   ]
  },
  {
   "cell_type": "markdown",
   "metadata": {},
   "source": [
    "5. Ottiene dal database tutti gli id ​ del milione di tuple della tabella Sailor e li stampa su stderr​ ."
   ]
  },
  {
   "cell_type": "code",
   "execution_count": 82,
   "metadata": {},
   "outputs": [
    {
     "name": "stderr",
     "output_type": "stream",
     "text": [
      "[(0,), (1,), (2,), (3,), (4,), (5,), (6,), (7,), (8,), (9,), (10,), (11,), (12,), (13,), (14,), (15,), (16,), (17,), (18,), (19,)]\n"
     ]
    }
   ],
   "source": [
    "cursor.execute(\"\"\" SELECT id FROM \"Sailor\" \"\"\")\n",
    "lista = cursor.fetchall()\n",
    "print(lista, file=sys.stderr)"
   ]
  },
  {
   "cell_type": "markdown",
   "metadata": {},
   "source": [
    "6. Tutte le tuple con valore di level pari a 185 vengono modificate, cambiando il valore di level a 200 (la vostra\n",
    "          query dovrà funzionare anche se la base di dati contiene più di una tupla con valore di level pari a 185). "
   ]
  },
  {
   "cell_type": "code",
   "execution_count": 83,
   "metadata": {},
   "outputs": [],
   "source": [
    "cursor.execute('''UPDATE \"Sailor\" SET \"level\" = 200 WHERE \"level\" = 185''')\n",
    "connection.commit()"
   ]
  },
  {
   "cell_type": "markdown",
   "metadata": {},
   "source": [
    "7. Seleziona l’id e l’address di tutte le tuple della tabella Sailor che hanno valore di level pari a 200, e li stampa su stderr."
   ]
  },
  {
   "cell_type": "code",
   "execution_count": 84,
   "metadata": {},
   "outputs": [
    {
     "name": "stderr",
     "output_type": "stream",
     "text": [
      "[(19, 'via Giangiorgio Oliviero,15                       ')]\n"
     ]
    }
   ],
   "source": [
    "cursor.execute('''SELECT id, address FROM \"Sailor\" as sl WHERE \"level\" = 200''')\n",
    "lista = cursor.fetchall()\n",
    "print(lista, file=sys.stderr)"
   ]
  },
  {
   "cell_type": "markdown",
   "metadata": {},
   "source": [
    "8. Crea un indice B+tree sull’attributo level."
   ]
  },
  {
   "cell_type": "code",
   "execution_count": 90,
   "metadata": {},
   "outputs": [],
   "source": [
    "cursor.execute('DROP INDEX IF EXISTS \"index_level\";')\n",
    "connection.commit()"
   ]
  },
  {
   "cell_type": "code",
   "execution_count": 91,
   "metadata": {},
   "outputs": [],
   "source": [
    "cursor.execute('CREATE INDEX index_level ON \"Sailor\" (\"level\");')\n",
    "connection.commit()"
   ]
  },
  {
   "cell_type": "markdown",
   "metadata": {},
   "source": [
    "9. Ottiene dal database tutti gli id ​ del milione di tuple della tabella Sailor​ e li stampa su stderr​ ."
   ]
  },
  {
   "cell_type": "code",
   "execution_count": 92,
   "metadata": {},
   "outputs": [
    {
     "name": "stderr",
     "output_type": "stream",
     "text": [
      "[(0,), (1,), (2,), (3,), (4,), (5,), (6,), (7,), (8,), (9,), (10,), (11,), (12,), (13,), (14,), (15,), (16,), (17,), (18,), (19,)]\n"
     ]
    }
   ],
   "source": [
    "cursor.execute(\"\"\" SELECT id FROM \"Sailor\" \"\"\")\n",
    "lista = cursor.fetchall()\n",
    "print(lista, file=sys.stderr)"
   ]
  },
  {
   "cell_type": "markdown",
   "metadata": {},
   "source": [
    "10. Tutte le tuple con valore di level pari a 200 vengono modificate, cambiando il valore di level a 210 (la vostra\n",
    "       query dovrà funzionare anche se la base di dati contiene più di una tupla con valore di level pari a 200)."
   ]
  },
  {
   "cell_type": "code",
   "execution_count": 94,
   "metadata": {},
   "outputs": [],
   "source": [
    "cursor.execute('''UPDATE \"Sailor\" SET \"level\" = 210 WHERE \"level\" = 200''')\n",
    "connection.commit()"
   ]
  },
  {
   "cell_type": "markdown",
   "metadata": {},
   "source": [
    "11. Seleziona l’id e l’address di tutte le tuple della tabella Sailor che hanno valore di level pari a 210, e li stampa su stderr."
   ]
  },
  {
   "cell_type": "code",
   "execution_count": 95,
   "metadata": {},
   "outputs": [
    {
     "name": "stderr",
     "output_type": "stream",
     "text": [
      "[(19, 'via Giangiorgio Oliviero,15                       ')]\n"
     ]
    }
   ],
   "source": [
    "cursor.execute('''SELECT id, address FROM \"Sailor\" as sl WHERE \"level\" = 210''')\n",
    "lista = cursor.fetchall()\n",
    "print(lista, file=sys.stderr)"
   ]
  },
  {
   "cell_type": "code",
   "execution_count": 3,
   "metadata": {},
   "outputs": [
    {
     "data": {
      "text/html": [
       "<div>\n",
       "<style scoped>\n",
       "    .dataframe tbody tr th:only-of-type {\n",
       "        vertical-align: middle;\n",
       "    }\n",
       "\n",
       "    .dataframe tbody tr th {\n",
       "        vertical-align: top;\n",
       "    }\n",
       "\n",
       "    .dataframe thead th {\n",
       "        text-align: right;\n",
       "    }\n",
       "</style>\n",
       "<table border=\"1\" class=\"dataframe\">\n",
       "  <thead>\n",
       "    <tr style=\"text-align: right;\">\n",
       "      <th></th>\n",
       "      <th>id</th>\n",
       "      <th>name</th>\n",
       "      <th>address</th>\n",
       "      <th>age</th>\n",
       "      <th>level</th>\n",
       "    </tr>\n",
       "  </thead>\n",
       "  <tbody>\n",
       "    <tr>\n",
       "      <th>0</th>\n",
       "      <td>1706633</td>\n",
       "      <td>PJfOPfYLSiZg                                  ...</td>\n",
       "      <td>bZDhGzmlqfOhsgTInzXHdHeedqYcJPEjhImkTxrcpQ    ...</td>\n",
       "      <td>24</td>\n",
       "      <td>2224257.0</td>\n",
       "    </tr>\n",
       "    <tr>\n",
       "      <th>1</th>\n",
       "      <td>683520</td>\n",
       "      <td>XykstyoGDDPC                                  ...</td>\n",
       "      <td>EdaTfnStYzYFPmGiTOhROdmekdgiYGFCBaTtAmcrKZ    ...</td>\n",
       "      <td>51</td>\n",
       "      <td>2219069.0</td>\n",
       "    </tr>\n",
       "    <tr>\n",
       "      <th>2</th>\n",
       "      <td>1624179</td>\n",
       "      <td>XGRNRJzMcDma                                  ...</td>\n",
       "      <td>gByexkHCCXafihtsRsiKDSgChxYxIqbFJmMZLiOzyS    ...</td>\n",
       "      <td>29</td>\n",
       "      <td>589261.0</td>\n",
       "    </tr>\n",
       "    <tr>\n",
       "      <th>3</th>\n",
       "      <td>757779</td>\n",
       "      <td>CROcljgRdCge                                  ...</td>\n",
       "      <td>BFcDgiHcnnxyKcGOtoFcPBYoJEKIpGJOMxrbXmGadX    ...</td>\n",
       "      <td>43</td>\n",
       "      <td>506742.0</td>\n",
       "    </tr>\n",
       "    <tr>\n",
       "      <th>4</th>\n",
       "      <td>611464</td>\n",
       "      <td>CbimPMgCRCZy                                  ...</td>\n",
       "      <td>FdOZjDMTMMGnFBYJDFKCrQTApPLCiMLPTXsxpZkQIt    ...</td>\n",
       "      <td>60</td>\n",
       "      <td>2540225.0</td>\n",
       "    </tr>\n",
       "    <tr>\n",
       "      <th>...</th>\n",
       "      <td>...</td>\n",
       "      <td>...</td>\n",
       "      <td>...</td>\n",
       "      <td>...</td>\n",
       "      <td>...</td>\n",
       "    </tr>\n",
       "    <tr>\n",
       "      <th>995</th>\n",
       "      <td>2476668</td>\n",
       "      <td>JrhPJOSoTMjL                                  ...</td>\n",
       "      <td>tJHxkfHLykkgqsAHGZOyLHMnBfcDkqKfQNTYJJtESY    ...</td>\n",
       "      <td>16</td>\n",
       "      <td>2541643.0</td>\n",
       "    </tr>\n",
       "    <tr>\n",
       "      <th>996</th>\n",
       "      <td>2302466</td>\n",
       "      <td>IMJPcAHdqmyl                                  ...</td>\n",
       "      <td>TteabfKlcyiDOCXfNpxnDRynZHYQAzLailFXoYhlsE    ...</td>\n",
       "      <td>37</td>\n",
       "      <td>939836.0</td>\n",
       "    </tr>\n",
       "    <tr>\n",
       "      <th>997</th>\n",
       "      <td>33541</td>\n",
       "      <td>hHEhMFAOgGgY                                  ...</td>\n",
       "      <td>tmdkaZxkijGocFKtDcqeHfpJPjSsDRYDbIncTCreCy    ...</td>\n",
       "      <td>52</td>\n",
       "      <td>570021.0</td>\n",
       "    </tr>\n",
       "    <tr>\n",
       "      <th>998</th>\n",
       "      <td>1469562</td>\n",
       "      <td>JxlzoTHgkyof                                  ...</td>\n",
       "      <td>LnpYRLOXllRiDXdFyilRQcADCEyzxpFhcOgCOfiMBe    ...</td>\n",
       "      <td>42</td>\n",
       "      <td>2038252.0</td>\n",
       "    </tr>\n",
       "    <tr>\n",
       "      <th>999</th>\n",
       "      <td>2715883</td>\n",
       "      <td>IOGLpjmFOsYr                                  ...</td>\n",
       "      <td>eJIdjMzilIsmqslRdAenkkblJOnbNhkKMOTyABsmgc    ...</td>\n",
       "      <td>58</td>\n",
       "      <td>210.0</td>\n",
       "    </tr>\n",
       "  </tbody>\n",
       "</table>\n",
       "<p>1000 rows × 5 columns</p>\n",
       "</div>"
      ],
      "text/plain": [
       "          id                                               name  \\\n",
       "0    1706633  PJfOPfYLSiZg                                  ...   \n",
       "1     683520  XykstyoGDDPC                                  ...   \n",
       "2    1624179  XGRNRJzMcDma                                  ...   \n",
       "3     757779  CROcljgRdCge                                  ...   \n",
       "4     611464  CbimPMgCRCZy                                  ...   \n",
       "..       ...                                                ...   \n",
       "995  2476668  JrhPJOSoTMjL                                  ...   \n",
       "996  2302466  IMJPcAHdqmyl                                  ...   \n",
       "997    33541  hHEhMFAOgGgY                                  ...   \n",
       "998  1469562  JxlzoTHgkyof                                  ...   \n",
       "999  2715883  IOGLpjmFOsYr                                  ...   \n",
       "\n",
       "                                               address  age      level  \n",
       "0    bZDhGzmlqfOhsgTInzXHdHeedqYcJPEjhImkTxrcpQ    ...   24  2224257.0  \n",
       "1    EdaTfnStYzYFPmGiTOhROdmekdgiYGFCBaTtAmcrKZ    ...   51  2219069.0  \n",
       "2    gByexkHCCXafihtsRsiKDSgChxYxIqbFJmMZLiOzyS    ...   29   589261.0  \n",
       "3    BFcDgiHcnnxyKcGOtoFcPBYoJEKIpGJOMxrbXmGadX    ...   43   506742.0  \n",
       "4    FdOZjDMTMMGnFBYJDFKCrQTApPLCiMLPTXsxpZkQIt    ...   60  2540225.0  \n",
       "..                                                 ...  ...        ...  \n",
       "995  tJHxkfHLykkgqsAHGZOyLHMnBfcDkqKfQNTYJJtESY    ...   16  2541643.0  \n",
       "996  TteabfKlcyiDOCXfNpxnDRynZHYQAzLailFXoYhlsE    ...   37   939836.0  \n",
       "997  tmdkaZxkijGocFKtDcqeHfpJPjSsDRYDbIncTCreCy    ...   52   570021.0  \n",
       "998  LnpYRLOXllRiDXdFyilRQcADCEyzxpFhcOgCOfiMBe    ...   42  2038252.0  \n",
       "999  eJIdjMzilIsmqslRdAenkkblJOnbNhkKMOTyABsmgc    ...   58      210.0  \n",
       "\n",
       "[1000 rows x 5 columns]"
      ]
     },
     "execution_count": 3,
     "metadata": {},
     "output_type": "execute_result"
    }
   ],
   "source": [
    "pd.read_sql('''SELECT * FROM \"Sailor\"''', connection)"
   ]
  },
  {
   "cell_type": "code",
   "execution_count": 4,
   "metadata": {},
   "outputs": [
    {
     "data": {
      "text/html": [
       "<div>\n",
       "<style scoped>\n",
       "    .dataframe tbody tr th:only-of-type {\n",
       "        vertical-align: middle;\n",
       "    }\n",
       "\n",
       "    .dataframe tbody tr th {\n",
       "        vertical-align: top;\n",
       "    }\n",
       "\n",
       "    .dataframe thead th {\n",
       "        text-align: right;\n",
       "    }\n",
       "</style>\n",
       "<table border=\"1\" class=\"dataframe\">\n",
       "  <thead>\n",
       "    <tr style=\"text-align: right;\">\n",
       "      <th></th>\n",
       "      <th>bid</th>\n",
       "      <th>bname</th>\n",
       "      <th>size</th>\n",
       "      <th>captain</th>\n",
       "    </tr>\n",
       "  </thead>\n",
       "  <tbody>\n",
       "    <tr>\n",
       "      <th>0</th>\n",
       "      <td>1706633</td>\n",
       "      <td>jxnPLHqGiQXa                                  ...</td>\n",
       "      <td>2</td>\n",
       "      <td>365163</td>\n",
       "    </tr>\n",
       "    <tr>\n",
       "      <th>1</th>\n",
       "      <td>683520</td>\n",
       "      <td>PtpAYTnSkxgK                                  ...</td>\n",
       "      <td>0</td>\n",
       "      <td>863423</td>\n",
       "    </tr>\n",
       "    <tr>\n",
       "      <th>2</th>\n",
       "      <td>1624179</td>\n",
       "      <td>QbeXIyyPLHXo                                  ...</td>\n",
       "      <td>1</td>\n",
       "      <td>1112199</td>\n",
       "    </tr>\n",
       "    <tr>\n",
       "      <th>3</th>\n",
       "      <td>757779</td>\n",
       "      <td>mkhByzYhCihX                                  ...</td>\n",
       "      <td>2</td>\n",
       "      <td>235970</td>\n",
       "    </tr>\n",
       "    <tr>\n",
       "      <th>4</th>\n",
       "      <td>611464</td>\n",
       "      <td>ALdGHHzNanzO                                  ...</td>\n",
       "      <td>2</td>\n",
       "      <td>770718</td>\n",
       "    </tr>\n",
       "    <tr>\n",
       "      <th>...</th>\n",
       "      <td>...</td>\n",
       "      <td>...</td>\n",
       "      <td>...</td>\n",
       "      <td>...</td>\n",
       "    </tr>\n",
       "    <tr>\n",
       "      <th>995</th>\n",
       "      <td>2476668</td>\n",
       "      <td>kKQmJHpAsDDZ                                  ...</td>\n",
       "      <td>1</td>\n",
       "      <td>50200</td>\n",
       "    </tr>\n",
       "    <tr>\n",
       "      <th>996</th>\n",
       "      <td>2302466</td>\n",
       "      <td>BsOiHjMFpsCX                                  ...</td>\n",
       "      <td>1</td>\n",
       "      <td>831703</td>\n",
       "    </tr>\n",
       "    <tr>\n",
       "      <th>997</th>\n",
       "      <td>33541</td>\n",
       "      <td>yFEZYbrFkedC                                  ...</td>\n",
       "      <td>2</td>\n",
       "      <td>2615976</td>\n",
       "    </tr>\n",
       "    <tr>\n",
       "      <th>998</th>\n",
       "      <td>1469562</td>\n",
       "      <td>MAhYoQfrCbJb                                  ...</td>\n",
       "      <td>2</td>\n",
       "      <td>1627388</td>\n",
       "    </tr>\n",
       "    <tr>\n",
       "      <th>999</th>\n",
       "      <td>2715883</td>\n",
       "      <td>rOXKbLnYgLcK                                  ...</td>\n",
       "      <td>1</td>\n",
       "      <td>443319</td>\n",
       "    </tr>\n",
       "  </tbody>\n",
       "</table>\n",
       "<p>1000 rows × 4 columns</p>\n",
       "</div>"
      ],
      "text/plain": [
       "                           bid  \\\n",
       "0    1706633                     \n",
       "1    683520                      \n",
       "2    1624179                     \n",
       "3    757779                      \n",
       "4    611464                      \n",
       "..                         ...   \n",
       "995  2476668                     \n",
       "996  2302466                     \n",
       "997  33541                       \n",
       "998  1469562                     \n",
       "999  2715883                     \n",
       "\n",
       "                                                 bname  \\\n",
       "0    jxnPLHqGiQXa                                  ...   \n",
       "1    PtpAYTnSkxgK                                  ...   \n",
       "2    QbeXIyyPLHXo                                  ...   \n",
       "3    mkhByzYhCihX                                  ...   \n",
       "4    ALdGHHzNanzO                                  ...   \n",
       "..                                                 ...   \n",
       "995  kKQmJHpAsDDZ                                  ...   \n",
       "996  BsOiHjMFpsCX                                  ...   \n",
       "997  yFEZYbrFkedC                                  ...   \n",
       "998  MAhYoQfrCbJb                                  ...   \n",
       "999  rOXKbLnYgLcK                                  ...   \n",
       "\n",
       "                               size  captain  \n",
       "0    2                                365163  \n",
       "1    0                                863423  \n",
       "2    1                               1112199  \n",
       "3    2                                235970  \n",
       "4    2                                770718  \n",
       "..                              ...      ...  \n",
       "995  1                                 50200  \n",
       "996  1                                831703  \n",
       "997  2                               2615976  \n",
       "998  2                               1627388  \n",
       "999  1                                443319  \n",
       "\n",
       "[1000 rows x 4 columns]"
      ]
     },
     "execution_count": 4,
     "metadata": {},
     "output_type": "execute_result"
    }
   ],
   "source": [
    "pd.read_sql('''SELECT * FROM \"Boat\"''', connection)"
   ]
  }
 ],
 "metadata": {
  "kernelspec": {
   "display_name": "Python 3",
   "language": "python",
   "name": "python3"
  },
  "language_info": {
   "codemirror_mode": {
    "name": "ipython",
    "version": 3
   },
   "file_extension": ".py",
   "mimetype": "text/x-python",
   "name": "python",
   "nbconvert_exporter": "python",
   "pygments_lexer": "ipython3",
   "version": "3.8.5"
  }
 },
 "nbformat": 4,
 "nbformat_minor": 4
}
